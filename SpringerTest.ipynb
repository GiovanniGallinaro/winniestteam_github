{
 "cells": [
  {
   "cell_type": "code",
   "execution_count": 1,
   "metadata": {},
   "outputs": [],
   "source": [
    "import unittest\n",
    "import pprint\n",
    "import requests\n",
    "import json\n",
    "import csv\n",
    "import os"
   ]
  },
  {
   "cell_type": "code",
   "execution_count": 2,
   "metadata": {},
   "outputs": [],
   "source": [
    "pp = pprint.PrettyPrinter(indent=4)\n",
    "file = open(\"/Users/Nicola/winniestteam-wa1819/dblp_snippet.xml\", \"r\")\n",
    "doi = \"\"\n",
    "for line in file:\n",
    "    if \"<ee>https://doi.org/\" in line:\n",
    "        doi = line.replace(\"<ee>https://doi.org/\", \"\")\n",
    "        doi = doi.replace(\"</ee>\", \"\")\n",
    "        \n",
    "# a posteriori si usa sempre l'ultimo doi trovato (è solo un test)"
   ]
  },
  {
   "cell_type": "code",
   "execution_count": 3,
   "metadata": {},
   "outputs": [],
   "source": [
    "### Springer Metadata API\n",
    "base_url_springer = 'http://api.springer.com/metadata/json'\n",
    "\n",
    "# Building the Springer Metadata API parameters dictionary\n",
    "springer_keyword = \"?q=doi:\" + doi\n",
    "url_params_springer = {}\n",
    "url_params_springer[\"api_key\"] = \"f8383203720821ad6df2166b896643e3\"\n",
    "url_params_springer[\"p\"] = 200   # 10 results will be returned\n",
    "\n",
    "# Request 200 articles from Scopus\n",
    "d_springer = requests.get(base_url_springer + springer_keyword, params=url_params_springer).json()"
   ]
  },
  {
   "cell_type": "code",
   "execution_count": 4,
   "metadata": {},
   "outputs": [
    {
     "name": "stdout",
     "output_type": "stream",
     "text": [
      "'Computational Mathematics and Numerical Analysis'\n",
      "'Computer Science'\n",
      "'Computer Systems Organization and Communication Networks'\n",
      "'Data Structures, Cryptology and Information Theory'\n",
      "'Information Systems and Communication Service'\n",
      "'Software Engineering/Programming and Operating Systems'\n",
      "'Theory of Computation'\n"
     ]
    }
   ],
   "source": [
    "# Subjects of the paper\n",
    "i = 1\n",
    "for x in d_springer['facets']:\n",
    "    if i == 0:\n",
    "        break\n",
    "    for subject in x['values']:\n",
    "        pp.pprint(subject['value'])\n",
    "    i = i - 1;        "
   ]
  },
  {
   "cell_type": "code",
   "execution_count": 5,
   "metadata": {},
   "outputs": [
    {
     "name": "stdout",
     "output_type": "stream",
     "text": [
      "('SummaryA class of continuation models and a class of stack models for '\n",
      " 'defining the semantics of programming languages are specified. A '\n",
      " 'transformation is given that maps any continuation model into an equivalent '\n",
      " 'stack model, and the equivalence is proved. The transformation is '\n",
      " 'illustrated for an example language which includes gotos and recursive '\n",
      " 'procedures.')\n"
     ]
    }
   ],
   "source": [
    "# Abstract\n",
    "for x in d_springer['records']:\n",
    "    pp.pprint(x['abstract'])"
   ]
  },
  {
   "cell_type": "code",
   "execution_count": 6,
   "metadata": {},
   "outputs": [],
   "source": [
    "# altri test boh"
   ]
  }
 ],
 "metadata": {
  "kernelspec": {
   "display_name": "Python 3",
   "language": "python",
   "name": "python3"
  },
  "language_info": {
   "codemirror_mode": {
    "name": "ipython",
    "version": 3
   },
   "file_extension": ".py",
   "mimetype": "text/x-python",
   "name": "python",
   "nbconvert_exporter": "python",
   "pygments_lexer": "ipython3",
   "version": "3.6.8"
  }
 },
 "nbformat": 4,
 "nbformat_minor": 2
}
